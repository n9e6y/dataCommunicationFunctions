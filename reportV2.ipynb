{
 "cells": [
  {
   "cell_type": "code",
   "execution_count": 1,
   "id": "43cdb762",
   "metadata": {},
   "outputs": [],
   "source": [
    "import numpy as np\n",
    "import matplotlib.pyplot as plt"
   ]
  },
  {
   "cell_type": "code",
   "execution_count": 2,
   "id": "7a6cc3fd",
   "metadata": {},
   "outputs": [],
   "source": [
    "def ami(bits):\n",
    "    signal = []\n",
    "    last_voltage = 1  # start with positive voltage\n",
    "    for bit in bits:\n",
    "        if bit == '1':\n",
    "            signal.append(last_voltage)\n",
    "            last_voltage *= -1  # toggle voltage on each '1'\n",
    "        else:\n",
    "            signal.append(0)  # represent '0' with zero voltage\n",
    "    return signal\n",
    "\n",
    "def rz(bits):\n",
    "    signal = []\n",
    "    for bit in bits:\n",
    "        if bit == '1':\n",
    "            signal.extend([1, 0])  # high for first half, low for second half\n",
    "        else:\n",
    "            signal.extend([0, 0])  # low for both halves for '0'\n",
    "    return signal\n",
    "\n",
    "def nrz(bits):\n",
    "    signal = [1 if bit == '1' else -1 for bit in bits]\n",
    "    return signal\n",
    "\n",
    "def manchester(bits):\n",
    "    signal = []\n",
    "    for bit in bits:\n",
    "        if bit == '1':\n",
    "            signal.extend([-1, 1])  # high to low for '1'\n",
    "        else:\n",
    "            signal.extend([1, -1])  # low to high for '0'\n",
    "    return signal\n",
    "\n",
    "def hdb3(bits):\n",
    "    signal = []\n",
    "    last_nonzero = 1\n",
    "    zero_count = 0\n",
    "    for bit in bits:\n",
    "        if bit == '1':\n",
    "            if zero_count == 4:\n",
    "                signal[-4] = last_nonzero\n",
    "                signal.append(0)\n",
    "                zero_count = 0\n",
    "            else:\n",
    "                signal.append(last_nonzero)\n",
    "                last_nonzero *= -1\n",
    "            zero_count = 0\n",
    "        else:\n",
    "            zero_count += 1\n",
    "            if zero_count == 4:\n",
    "                if last_nonzero == -1:\n",
    "                    signal.extend([0, 0, 0, 1])\n",
    "                else:\n",
    "                    signal.extend([0, 0, 0, -1])\n",
    "                zero_count = 0\n",
    "            else:\n",
    "                signal.append(0)\n",
    "    return signal\n",
    "\n",
    "\n",
    "\n",
    "def ask(bits, amp1=1, amp0=0.5, bit_duration=1, samples_per_bit=100):\n",
    "    t = np.linspace(0, bit_duration, samples_per_bit)\n",
    "    signal = np.concatenate([amp1 * np.ones(samples_per_bit) if bit == '1' else amp0 * np.ones(samples_per_bit) for bit in bits])\n",
    "    return signal, t\n",
    "\n",
    "def fsk(bits, f1=5, f0=2, bit_duration=1, samples_per_bit=100):\n",
    "    t = np.linspace(0, bit_duration, samples_per_bit)\n",
    "    signal = np.concatenate([np.sin(2 * np.pi * f1 * t) if bit == '1' else np.sin(2 * np.pi * f0 * t) for bit in bits])\n",
    "    return signal, t\n",
    "\n",
    "def qam(bits, amp1=1, amp0=0.5, bit_duration=1, samples_per_bit=100):\n",
    "    t = np.linspace(0, bit_duration, samples_per_bit)\n",
    "    carrier = np.sin(2 * np.pi * 5 * t)  # 5 Hz carrier frequency\n",
    "    signal = np.concatenate([(amp1 * carrier) if bit == '1' else (amp0 * carrier) for bit in bits])\n",
    "    return signal, t\n",
    "\n",
    "def psk(bits, f=5, bit_duration=1, samples_per_bit=100):\n",
    "    t = np.linspace(0, bit_duration, samples_per_bit)\n",
    "    signal = np.concatenate([np.sin(2 * np.pi * f * t + (0 if bit == '0' else np.pi)) for bit in bits])\n",
    "    return signal, t\n",
    "\n",
    "\n",
    "def plot_signal(bits, coding_name):\n",
    "    n = len(bits)\n",
    "    samples_per_bit = 100\n",
    "    \n",
    "    signal_function = globals()[coding_name.lower()]\n",
    "    try:\n",
    "        # If it requires samples_per_bit parameter\n",
    "        signal, t = signal_function(bits, samples_per_bit=samples_per_bit)\n",
    "        time = np.linspace(0, n, len(signal))\n",
    "        plt.plot(time, signal)\n",
    "    except TypeError:\n",
    "        # If it does not require samples_per_bit parameter\n",
    "        signal = signal_function(bits)\n",
    "        time = np.arange(len(signal))\n",
    "        plt.step(time, signal, where='post')\n",
    "        bit_positions = np.arange(0, len(bits) * 2, 2)\n",
    "        plt.xticks(bit_positions, labels=range(len(bits)))  \n",
    "\n",
    "    plt.title(f\"{coding_name} Signal\")\n",
    "    plt.xlabel(\"Time\")\n",
    "    plt.ylabel(\"Amplitude\")\n",
    "    plt.ylim([-1.5, 1.5])  \n",
    "    plt.grid(True)\n",
    "    plt.show()\n"
   ]
  },
  {
   "cell_type": "code",
   "execution_count": 9,
   "id": "768b89ba",
   "metadata": {
    "scrolled": true
   },
   "outputs": [
    {
     "name": "stdout",
     "output_type": "stream",
     "text": [
      "Enter the bit sequence:1101101\n",
      "Enter the modulation function name: [ 'ami' , 'rz' , 'nrz' , 'manchster' , 'hdb3' , 'ask' , 'fsk' , 'qam' , 'psk'] AMI\n"
     ]
    },
    {
     "data": {
      "image/png": "[encoded data removed]",
      "text/plain": [
       "<Figure size 640x480 with 1 Axes>"
      ]
     },
     "metadata": {},
     "output_type": "display_data"
    }
   ],
   "source": [
    "if __name__ == \"__main__\":\n",
    "    while True:\n",
    "        bits = input(\"Enter the bit sequence:\")\n",
    "        if all(bit in '01' for bit in bits):\n",
    "            break\n",
    "        else:\n",
    "            print(\"Invalid input. Please enter a sequence of 0s and 1s only.\")\n",
    "    \n",
    "    while True:\n",
    "        coding_name = input(\"Enter the modulation function name: [ 'ami' , 'rz' , 'nrz' , 'manchster' , 'hdb3' , 'ask' , 'fsk' , 'qam' , 'psk'] \")\n",
    "        if coding_name.lower() in globals():\n",
    "            try:\n",
    "                signal_function = globals()[coding_name.lower()]\n",
    "                plot_signal(bits, coding_name)\n",
    "                break\n",
    "            except (TypeError, KeyError):\n",
    "                print(\"Invalid modulation function. Please enter a valid coding/modulation function name, valid list = [ 'ami' , 'rz' , 'nrz' , 'manchster' , 'hdb3' , 'ask' , 'fsk' , 'qam' , 'psk']\")\n",
    "        else:\n",
    "            print(\"Invalid modulation function. Please enter a valid coding/modulation function name.\")\n"
   ]
  },
  {
   "cell_type": "code",
   "execution_count": null,
   "id": "922b4f04",
   "metadata": {},
   "outputs": [],
   "source": []
  }
 ],
 "metadata": {
  "kernelspec": {
   "display_name": "Python 3 (ipykernel)",
   "language": "python",
   "name": "python3"
  },
  "language_info": {
   "codemirror_mode": {
    "name": "ipython",
    "version": 3
   },
   "file_extension": ".py",
   "mimetype": "text/x-python",
   "name": "python",
   "nbconvert_exporter": "python",
   "pygments_lexer": "ipython3",
   "version": "3.11.0"
  }
 },
 "nbformat": 4,
 "nbformat_minor": 5
}
